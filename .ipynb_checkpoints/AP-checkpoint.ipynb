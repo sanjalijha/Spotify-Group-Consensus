{
 "cells": [
  {
   "cell_type": "code",
   "execution_count": 2,
   "metadata": {},
   "outputs": [],
   "source": [
    "import numpy as np\n",
    "from data_file import person1,person2,person3,person4,person5"
   ]
  },
  {
   "cell_type": "code",
   "execution_count": 3,
   "metadata": {},
   "outputs": [],
   "source": [
    "input_data = np.array([\n",
    "    [['1', '2' , '3'],['9', '6', '10'],['90','80','30']], #  person 1 with 3 things, each thing has 3 songs \n",
    "    [['4', '5', '1'],['10', '8','11'],['91','80','31']],\n",
    "])\n",
    "album_tracks_hashmap = {}\n",
    "album_tracks_hashmap['90'] = ['9','11','12','7']\n",
    "album_tracks_hashmap['91'] = ['8','10','22','29']\n",
    "album_tracks_hashmap['80'] = ['2','1','5','33']\n",
    "album_tracks_hashmap['31'] = ['41','42','43','44']\n",
    "album_tracks_hashmap['30'] = ['51','52','53','54']"
   ]
  },
  {
   "cell_type": "code",
   "execution_count": 4,
   "metadata": {},
   "outputs": [
    {
     "name": "stdout",
     "output_type": "stream",
     "text": [
      "[['' '']\n",
      " ['' '']\n",
      " ['' '']\n",
      " ['' '']\n",
      " ['' '']]\n",
      "[['f' 'g']\n",
      " ['' '']\n",
      " ['' '']\n",
      " ['' '']\n",
      " ['' '']]\n"
     ]
    }
   ],
   "source": [
    "edges = np.empty([5, 2], dtype = str)\n",
    "print(edges)\n",
    "edges[0] = ['f', 'g']\n",
    "print(edges)"
   ]
  },
  {
   "cell_type": "code",
   "execution_count": 5,
   "metadata": {},
   "outputs": [],
   "source": [
    "def user_track(data,x,limit):\n",
    "    print(data.shape)\n",
    "    n, d, m = data.shape\n",
    "    edges = np.empty([limit, 2], dtype=\"<U30\")\n",
    "    ind = 0\n",
    "    for index in x:\n",
    "        for p in range(n):\n",
    "            tracks = data[p,x,:][0]\n",
    "            for t in range(len(tracks)):\n",
    "                if ind < limit:\n",
    "                    edges[ind] = [str(p),tracks[t]]\n",
    "                    ind += 1\n",
    "                else:\n",
    "                    return edges\n",
    "    return edges"
   ]
  },
  {
   "cell_type": "code",
   "execution_count": 6,
   "metadata": {},
   "outputs": [
    {
     "name": "stdout",
     "output_type": "stream",
     "text": [
      "(2, 3, 3)\n",
      "[['0' '9']\n",
      " ['0' '6']\n",
      " ['0' '10']\n",
      " ['1' '10']\n",
      " ['1' '8']\n",
      " ['1' '11']\n",
      " ['' '']\n",
      " ['' '']\n",
      " ['' '']\n",
      " ['' '']\n",
      " ['' '']\n",
      " ['' '']\n",
      " ['' '']\n",
      " ['' '']\n",
      " ['' '']\n",
      " ['' '']\n",
      " ['' '']\n",
      " ['' '']\n",
      " ['' '']\n",
      " ['' '']]\n"
     ]
    }
   ],
   "source": [
    "print(user_track(input_data,[1],20))\n",
    "# print(np.ndarray.flatten(np.array(full_data[:][1][:])))"
   ]
  },
  {
   "cell_type": "code",
   "execution_count": 7,
   "metadata": {},
   "outputs": [],
   "source": [
    "def create_vertices(input_data, idx1, idx2):\n",
    "    tracks = np.concatenate(\n",
    "        (input_data[:, idx1, :], input_data[:, idx2, :]), axis=1)\n",
    "    tracks = np.ndarray.flatten(tracks)\n",
    "    return set(tracks)"
   ]
  },
  {
   "cell_type": "code",
   "execution_count": 16,
   "metadata": {},
   "outputs": [],
   "source": [
    "def create_vertices(input_data, x):\n",
    "    tracks = np.array([[]])\n",
    "    for i in x:\n",
    "        tracks = np.concatenate((tracks, input_data[:, i, :]),axis=1)\n",
    "    tracks = np.ndarray.flatten(tracks)\n",
    "    return set(tracks)"
   ]
  },
  {
   "cell_type": "code",
   "execution_count": 17,
   "metadata": {},
   "outputs": [
    {
     "ename": "ValueError",
     "evalue": "all the input array dimensions for the concatenation axis must match exactly, but along dimension 1, the array at index 0 has size 0 and the array at index 1 has size 3",
     "output_type": "error",
     "traceback": [
      "\u001b[0;31m---------------------------------------------------------------------------\u001b[0m",
      "\u001b[0;31mValueError\u001b[0m                                Traceback (most recent call last)",
      "\u001b[0;32m<ipython-input-17-d82cb5fb1d40>\u001b[0m in \u001b[0;36m<module>\u001b[0;34m\u001b[0m\n\u001b[0;32m----> 1\u001b[0;31m \u001b[0mcreate_vertices\u001b[0m\u001b[0;34m(\u001b[0m\u001b[0minput_data\u001b[0m\u001b[0;34m,\u001b[0m\u001b[0;34m[\u001b[0m\u001b[0;36m1\u001b[0m\u001b[0;34m]\u001b[0m\u001b[0;34m)\u001b[0m\u001b[0;34m\u001b[0m\u001b[0;34m\u001b[0m\u001b[0m\n\u001b[0m",
      "\u001b[0;32m<ipython-input-16-364f1b1d429f>\u001b[0m in \u001b[0;36mcreate_vertices\u001b[0;34m(input_data, x)\u001b[0m\n\u001b[1;32m      2\u001b[0m     \u001b[0mtracks\u001b[0m \u001b[0;34m=\u001b[0m \u001b[0mnp\u001b[0m\u001b[0;34m.\u001b[0m\u001b[0marray\u001b[0m\u001b[0;34m(\u001b[0m\u001b[0;34m[\u001b[0m\u001b[0;34m[\u001b[0m\u001b[0;34m]\u001b[0m\u001b[0;34m]\u001b[0m\u001b[0;34m)\u001b[0m\u001b[0;34m\u001b[0m\u001b[0;34m\u001b[0m\u001b[0m\n\u001b[1;32m      3\u001b[0m     \u001b[0;32mfor\u001b[0m \u001b[0mi\u001b[0m \u001b[0;32min\u001b[0m \u001b[0mx\u001b[0m\u001b[0;34m:\u001b[0m\u001b[0;34m\u001b[0m\u001b[0;34m\u001b[0m\u001b[0m\n\u001b[0;32m----> 4\u001b[0;31m         \u001b[0mtracks\u001b[0m \u001b[0;34m=\u001b[0m \u001b[0mnp\u001b[0m\u001b[0;34m.\u001b[0m\u001b[0mconcatenate\u001b[0m\u001b[0;34m(\u001b[0m\u001b[0;34m(\u001b[0m\u001b[0mtracks\u001b[0m\u001b[0;34m,\u001b[0m \u001b[0minput_data\u001b[0m\u001b[0;34m[\u001b[0m\u001b[0;34m:\u001b[0m\u001b[0;34m,\u001b[0m \u001b[0mi\u001b[0m\u001b[0;34m,\u001b[0m \u001b[0;34m:\u001b[0m\u001b[0;34m]\u001b[0m\u001b[0;34m)\u001b[0m\u001b[0;34m)\u001b[0m\u001b[0;34m\u001b[0m\u001b[0;34m\u001b[0m\u001b[0m\n\u001b[0m\u001b[1;32m      5\u001b[0m     \u001b[0mtracks\u001b[0m \u001b[0;34m=\u001b[0m \u001b[0mnp\u001b[0m\u001b[0;34m.\u001b[0m\u001b[0mndarray\u001b[0m\u001b[0;34m.\u001b[0m\u001b[0mflatten\u001b[0m\u001b[0;34m(\u001b[0m\u001b[0mtracks\u001b[0m\u001b[0;34m)\u001b[0m\u001b[0;34m\u001b[0m\u001b[0;34m\u001b[0m\u001b[0m\n\u001b[1;32m      6\u001b[0m     \u001b[0;32mreturn\u001b[0m \u001b[0mset\u001b[0m\u001b[0;34m(\u001b[0m\u001b[0mtracks\u001b[0m\u001b[0;34m)\u001b[0m\u001b[0;34m\u001b[0m\u001b[0;34m\u001b[0m\u001b[0m\n",
      "\u001b[0;32m<__array_function__ internals>\u001b[0m in \u001b[0;36mconcatenate\u001b[0;34m(*args, **kwargs)\u001b[0m\n",
      "\u001b[0;31mValueError\u001b[0m: all the input array dimensions for the concatenation axis must match exactly, but along dimension 1, the array at index 0 has size 0 and the array at index 1 has size 3"
     ]
    }
   ],
   "source": [
    "create_vertices(input_data,[1])"
   ]
  },
  {
   "cell_type": "code",
   "execution_count": 8,
   "metadata": {},
   "outputs": [
    {
     "data": {
      "text/plain": [
       "{'10', '11', '6', '8', '9'}"
      ]
     },
     "execution_count": 8,
     "metadata": {},
     "output_type": "execute_result"
    }
   ],
   "source": [
    "create_vertices(input_data,1,1)"
   ]
  },
  {
   "cell_type": "code",
   "execution_count": 9,
   "metadata": {},
   "outputs": [],
   "source": [
    "def create_hashmap(start_ind,input_set):\n",
    "    hashmap = {}\n",
    "    ind = start_ind\n",
    "    for i in input_set:\n",
    "        hashmap[i] = ind\n",
    "        ind += 1\n",
    "    return hashmap"
   ]
  },
  {
   "cell_type": "code",
   "execution_count": 10,
   "metadata": {},
   "outputs": [
    {
     "name": "stdout",
     "output_type": "stream",
     "text": [
      "5\n",
      "{'8': 0, '10': 1, '9': 2, '11': 3, '6': 4}\n"
     ]
    }
   ],
   "source": [
    "track_set = create_vertices(input_data,1,1)\n",
    "print(len(track_set))\n",
    "print(create_hashmap(0,track_set))"
   ]
  },
  {
   "cell_type": "code",
   "execution_count": 11,
   "metadata": {},
   "outputs": [
    {
     "name": "stdout",
     "output_type": "stream",
     "text": [
      "5\n",
      "{'31': 0, '30': 1, '80': 2, '90': 3, '91': 4}\n"
     ]
    }
   ],
   "source": [
    "album_set = create_vertices(input_data,2,2)\n",
    "print(len(album_set))\n",
    "print(create_hashmap(0,album_set))"
   ]
  },
  {
   "cell_type": "code",
   "execution_count": null,
   "metadata": {},
   "outputs": [],
   "source": [
    "def album_track(data,x,limit):\n",
    "    n, d, m = data.shape\n",
    "    edges = np.empty([limit, 2], dtype=\"<U30\")\n",
    "    "
   ]
  }
 ],
 "metadata": {
  "kernelspec": {
   "display_name": "Python 3",
   "language": "python",
   "name": "python3"
  },
  "language_info": {
   "codemirror_mode": {
    "name": "ipython",
    "version": 3
   },
   "file_extension": ".py",
   "mimetype": "text/x-python",
   "name": "python",
   "nbconvert_exporter": "python",
   "pygments_lexer": "ipython3",
   "version": "3.8.5"
  }
 },
 "nbformat": 4,
 "nbformat_minor": 4
}
